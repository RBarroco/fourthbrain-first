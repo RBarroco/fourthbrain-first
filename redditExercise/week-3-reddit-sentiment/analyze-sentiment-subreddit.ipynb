{
 "cells": [
  {
   "cell_type": "markdown",
   "metadata": {},
   "source": [
    "<p align = \"center\" draggable=”false” ><img src=\"https://user-images.githubusercontent.com/37101144/161836199-fdb0219d-0361-4988-bf26-48b0fad160a3.png\" \n",
    "     width=\"200px\"\n",
    "     height=\"auto\"/>\n",
    "</p>"
   ]
  },
  {
   "cell_type": "markdown",
   "metadata": {},
   "source": [
    "# <h1 align=\"center\" id=\"heading\">Sentiment Analysis of Reddit Data using Reddit API</h1>"
   ]
  },
  {
   "cell_type": "markdown",
   "metadata": {},
   "source": [
    "In this live coding session, we leverage the Python Reddit API Wrapper (`PRAW`) to retrieve data from subreddits on [Reddit](https://www.reddit.com), and perform sentiment analysis using [`pipelines`](https://huggingface.co/docs/transformers/main_classes/pipelines) from [HuggingFace ( 🤗 the GitHub of Machine Learning )](https://techcrunch.com/2022/05/09/hugging-face-reaches-2-billion-valuation-to-build-the-github-of-machine-learning/), powered by [transformer](https://arxiv.org/pdf/1706.03762.pdf)."
   ]
  },
  {
   "cell_type": "markdown",
   "metadata": {},
   "source": [
    "## Objectives"
   ]
  },
  {
   "cell_type": "markdown",
   "metadata": {},
   "source": [
    "At the end of the session, you will "
   ]
  },
  {
   "cell_type": "markdown",
   "metadata": {},
   "source": [
    "- know how to work with APIs\n",
    "- feel more comfortable navigating thru documentation, even inspecting the source code\n",
    "- understand what a `pipeline` object is in HuggingFace\n",
    "- perform sentiment analysis using `pipeline`\n",
    "- run a python script in command line and get the results"
   ]
  },
  {
   "cell_type": "markdown",
   "metadata": {
    "heading_collapsed": true
   },
   "source": [
    "## How to Submit"
   ]
  },
  {
   "cell_type": "markdown",
   "metadata": {},
   "source": [
    "- At the end of each task, commit* the work into the repository you created before the assignment\n",
    "- After completing all three tasks, make sure to push the notebook containing all code blocks and output cells to your repository you created before the assignment\n",
    "- Submit the link to the notebook in Canvas"
   ]
  },
  {
   "cell_type": "markdown",
   "metadata": {
    "hidden": true
   },
   "source": [
    "\\***NEVER** commit a notebook displaying errors unless it is instructed otherwise. However, commit often; recall git ABC = **A**lways **B**e **C**ommitting."
   ]
  },
  {
   "cell_type": "markdown",
   "metadata": {},
   "source": [
    "## Tasks"
   ]
  },
  {
   "cell_type": "markdown",
   "metadata": {
    "heading_collapsed": true
   },
   "source": [
    "### Task I: Instantiate a Reddit API Object"
   ]
  },
  {
   "cell_type": "markdown",
   "metadata": {
    "hidden": true
   },
   "source": [
    "The first task is to instantiate a Reddit API object using [PRAW](https://praw.readthedocs.io/en/stable/), through which you will retrieve data. PRAW is a wrapper for [Reddit API](https://www.reddit.com/dev/api) that makes interacting with the Reddit API easier unless you are already an expert of [`requests`](https://docs.python-requests.org/en/latest/)."
   ]
  },
  {
   "cell_type": "markdown",
   "metadata": {
    "hidden": true
   },
   "source": [
    "#### 1. Install packages"
   ]
  },
  {
   "cell_type": "markdown",
   "metadata": {
    "hidden": true
   },
   "source": [
    "Please ensure you've ran all the cells in the `imports.ipynb`, located [here](https://github.com/FourthBrain/MLE-8/blob/main/assignments/week-3-analyze-sentiment-subreddit/imports.ipynb), to make sure you have all the required packages for today's assignment."
   ]
  },
  {
   "cell_type": "markdown",
   "metadata": {
    "hidden": true
   },
   "source": [
    "####  2. Create a new app on Reddit "
   ]
  },
  {
   "cell_type": "markdown",
   "metadata": {
    "hidden": true
   },
   "source": [
    "Create a new app on Reddit and save secret tokens; refer to [post in medium](https://towardsdatascience.com/how-to-use-the-reddit-api-in-python-5e05ddfd1e5c) for more details."
   ]
  },
  {
   "cell_type": "markdown",
   "metadata": {
    "hidden": true
   },
   "source": [
    "- Create a Reddit account if you don't have one, log into your account.\n",
    "- To access the API, we need create an app. Slight updates, on the website, you need to navigate to `preference` > `app`, or click [this link](https://www.reddit.com/prefs/apps) and scroll all the way down. \n",
    "- Click to create a new app, fill in the **name**, choose `script`, fill in  **description** and **redirect uri** ( The redirect URI is where the user is sent after they've granted OAuth access to your application (more info [here](https://github.com/reddit-archive/reddit/wiki/OAuth2)) For our purpose, you can enter some random url, e.g., www.google.com; as shown below.\n",
    "\n",
    "\n",
    "    <img src=\"https://miro.medium.com/max/700/1*lRBvxpIe8J2nZYJ6ucMgHA.png\" width=\"500\"/>\n",
    "- Jot down `client_id` (left upper corner) and `client_secret` \n",
    "\n",
    "    NOTE: CLIENT_ID refers to 'personal use script\" and CLIENT_SECRET to secret.\n",
    "    \n",
    "    <div>\n",
    "    <img src=\"https://miro.medium.com/max/700/1*7cGAKth1PMrEf2sHcQWPoA.png\" width=\"300\"/>\n",
    "    </div>\n",
    "\n",
    "- Create `secrets_reddit.py` in the same directory with this notebook, fill in `client_id` and `secret_id` obtained from the last step. We will need to import those constants in the next step.\n",
    "    ```\n",
    "    REDDIT_API_CLIENT_ID = \"client_id\"\n",
    "    REDDIT_API_CLIENT_SECRET = \"secret_id\"\n",
    "    REDDIT_API_USER_AGENT = \"any string except bot; ex. My User Agent\"\n",
    "    ```\n",
    "- Add `secrets_reddit.py` to your `.gitignore` file if not already done. NEVER push credentials to a repo, private or public. "
   ]
  },
  {
   "cell_type": "markdown",
   "metadata": {
    "hidden": true
   },
   "source": [
    "#### 3. Instantiate a `Reddit` object"
   ]
  },
  {
   "cell_type": "markdown",
   "metadata": {
    "hidden": true
   },
   "source": [
    "Now you are ready to create a read-only `Reddit` instance. Refer to [documentation](https://praw.readthedocs.io/en/stable/code_overview/reddit_instance.html) when necessary."
   ]
  },
  {
   "cell_type": "code",
   "execution_count": 24,
   "metadata": {
    "hidden": true
   },
   "outputs": [],
   "source": [
    "import praw\n",
    "import secrets_reddit\n",
    "\n",
    "# Create a Reddit object which allows us to interact with the Reddit API\n",
    "reddit = praw.Reddit(\n",
    "    client_id=secrets_reddit.REDDIT_API_CLIENT_ID,\n",
    "    client_secret=secrets_reddit.REDDIT_API_CLIENT_SECRET,\n",
    "    user_agent=secrets_reddit.REDDIT_API_USER_AGENT\n",
    ")"
   ]
  },
  {
   "cell_type": "code",
   "execution_count": 25,
   "metadata": {
    "hidden": true
   },
   "outputs": [
    {
     "name": "stdout",
     "output_type": "stream",
     "text": [
      "<praw.reddit.Reddit object at 0x7f503679ac70>\n"
     ]
    }
   ],
   "source": [
    "print(reddit)"
   ]
  },
  {
   "cell_type": "markdown",
   "metadata": {},
   "source": [
    "<details>\n",
    "<summary>Expected output:</summary>   \n",
    "\n",
    "```<praw.reddit.Reddit object at 0x10f8a0ac0>```\n",
    "</details>"
   ]
  },
  {
   "cell_type": "markdown",
   "metadata": {
    "hidden": true
   },
   "source": [
    "#### 4. Instantiate a `subreddit` object"
   ]
  },
  {
   "cell_type": "markdown",
   "metadata": {
    "hidden": true
   },
   "source": [
    "Lastly, create a `subreddit` object for your favorite subreddit and inspect the object. The expected outputs you will see are from `r/machinelearning` unless otherwise specified."
   ]
  },
  {
   "cell_type": "code",
   "execution_count": 38,
   "metadata": {
    "hidden": true
   },
   "outputs": [],
   "source": [
    "subreddit = reddit.subreddit(\"machinelearning\")"
   ]
  },
  {
   "cell_type": "markdown",
   "metadata": {
    "hidden": true
   },
   "source": [
    "What is the display name of the subreddit?"
   ]
  },
  {
   "cell_type": "code",
   "execution_count": 39,
   "metadata": {
    "hidden": true
   },
   "outputs": [
    {
     "name": "stdout",
     "output_type": "stream",
     "text": [
      "machinelearning\n"
     ]
    }
   ],
   "source": [
    "print(subreddit.display_name)"
   ]
  },
  {
   "cell_type": "markdown",
   "metadata": {},
   "source": [
    "<details>\n",
    "<summary>Expected output:</summary>   \n",
    "\n",
    "    machinelearning\n",
    "</details>"
   ]
  },
  {
   "cell_type": "markdown",
   "metadata": {
    "hidden": true
   },
   "source": [
    "How about its title, is it different from the display name?"
   ]
  },
  {
   "cell_type": "code",
   "execution_count": 40,
   "metadata": {
    "hidden": true
   },
   "outputs": [
    {
     "name": "stdout",
     "output_type": "stream",
     "text": [
      "Machine Learning\n"
     ]
    }
   ],
   "source": [
    "print(subreddit.title)"
   ]
  },
  {
   "cell_type": "markdown",
   "metadata": {},
   "source": [
    "<details>\n",
    "<summary>Expected output:</summary>   \n",
    "\n",
    "    Machine Learning\n",
    "</details>"
   ]
  },
  {
   "cell_type": "markdown",
   "metadata": {
    "hidden": true
   },
   "source": [
    "Print out the description of the subreddit:"
   ]
  },
  {
   "cell_type": "code",
   "execution_count": 42,
   "metadata": {
    "hidden": true,
    "scrolled": false
   },
   "outputs": [
    {
     "name": "stdout",
     "output_type": "stream",
     "text": [
      "**[Rules For Posts](https://www.reddit.com/r/MachineLearning/about/rules/)**\n",
      "--------\n",
      "+[Research](https://www.reddit.com/r/MachineLearning/search?sort=new&restrict_sr=on&q=flair%3AResearch)\n",
      "--------\n",
      "+[Discussion](https://www.reddit.com/r/MachineLearning/search?sort=new&restrict_sr=on&q=flair%3ADiscussion)\n",
      "--------\n",
      "+[Project](https://www.reddit.com/r/MachineLearning/search?sort=new&restrict_sr=on&q\n"
     ]
    }
   ],
   "source": [
    "print(subreddit.description[:400])"
   ]
  },
  {
   "cell_type": "markdown",
   "metadata": {},
   "source": [
    "<details>\n",
    "<summary>Expected output:</summary>\n",
    "\n",
    "    **[Rules For Posts](https://www.reddit.com/r/MachineLearning/about/rules/)**\n",
    "    --------\n",
    "    +[Research](https://www.reddit.com/r/MachineLearning/search?sort=new&restrict_sr=on&q=flair%3AResearch)\n",
    "    --------\n",
    "    +[Discussion](https://www.reddit.com/r/MachineLearning/search?sort=new&restrict_sr=on&q=flair%3ADiscussion)\n",
    "    --------\n",
    "    +[Project](https://www.reddit.com/r/MachineLearning/search?sort=new&restrict_sr=on&q=flair%3AProject)\n",
    "    --------\n",
    "    +[News](https://www.reddit.com/r/MachineLearning/search?sort=new&restrict\n",
    "</details>"
   ]
  },
  {
   "cell_type": "markdown",
   "metadata": {
    "heading_collapsed": true
   },
   "source": [
    "### Task II: Parse comments"
   ]
  },
  {
   "cell_type": "markdown",
   "metadata": {
    "heading_collapsed": true,
    "hidden": true
   },
   "source": [
    "#### 1. Top Posts of All Time"
   ]
  },
  {
   "cell_type": "markdown",
   "metadata": {
    "hidden": true
   },
   "source": [
    "Find titles of top 10 posts of **all time** from your favorite subreddit. Refer to [Obtain Submission Instances from a Subreddit Section](https://praw.readthedocs.io/en/stable/getting_started/quick_start.html)) if necessary. Verify if the titles match what you read on Reddit."
   ]
  },
  {
   "cell_type": "code",
   "execution_count": 43,
   "metadata": {
    "hidden": true
   },
   "outputs": [],
   "source": [
    "# try run this line, what do you see? press q once you are done\n",
    "?subreddit.top "
   ]
  },
  {
   "cell_type": "code",
   "execution_count": 44,
   "metadata": {
    "hidden": true
   },
   "outputs": [
    {
     "name": "stdout",
     "output_type": "stream",
     "text": [
      "[Project] From books to presentations in 10s with AR + ML\n",
      "[D] A Demo from 1993 of 32-year-old Yann LeCun showing off the World's first Convolutional Network for Text Recognition\n",
      "[R] First Order Motion Model applied to animate paintings\n",
      "[N] AI can turn old photos into moving Images / Link is given in the comments - You can also turn your old photo like this\n",
      "[D] This AI reveals how much time politicians stare at their phone at work\n",
      "[D] Types of Machine Learning Papers\n",
      "[D] The machine learning community has a toxicity problem\n",
      "I made a robot that punishes me if it detects that if I am procrastinating on my assignments [P]\n",
      "[Project] NEW PYTHON PACKAGE: Sync GAN Art to Music with \"Lucid Sonic Dreams\"! (Link in Comments)\n",
      "[P] Using oil portraits and First Order Model to bring the paintings back to life\n"
     ]
    }
   ],
   "source": [
    "for i in subreddit.top(limit=10):\n",
    "    print(i.title)"
   ]
  },
  {
   "cell_type": "markdown",
   "metadata": {
    "hidden": true
   },
   "source": [
    "<details> <summary>Expected output:</summary>\n",
    "\n",
    "    [Project] From books to presentations in 10s with AR + ML\n",
    "    [D] A Demo from 1993 of 32-year-old Yann LeCun showing off the World's first Convolutional Network for Text Recognition\n",
    "    [R] First Order Motion Model applied to animate paintings\n",
    "    [N] AI can turn old photos into moving Images / Link is given in the comments - You can also turn your old photo like this\n",
    "    [D] This AI reveals how much time politicians stare at their phone at work\n",
    "    [D] Types of Machine Learning Papers\n",
    "    [D] The machine learning community has a toxicity problem\n",
    "    [Project] NEW PYTHON PACKAGE: Sync GAN Art to Music with \"Lucid Sonic Dreams\"! (Link in Comments)\n",
    "    [P] Using oil portraits and First Order Model to bring the paintings back to life\n",
    "    [D] Convolution Neural Network Visualization - Made with Unity 3D and lots of Code / source - stefsietz (IG)    \n",
    "</details>"
   ]
  },
  {
   "cell_type": "markdown",
   "metadata": {
    "heading_collapsed": true,
    "hidden": true
   },
   "source": [
    "#### 2. Top 10 Posts of This Week"
   ]
  },
  {
   "cell_type": "markdown",
   "metadata": {
    "hidden": true
   },
   "source": [
    "What are the titles of the top 10 posts of **this week** from your favorite subreddit?"
   ]
  },
  {
   "cell_type": "code",
   "execution_count": 45,
   "metadata": {
    "hidden": true
   },
   "outputs": [
    {
     "name": "stdout",
     "output_type": "stream",
     "text": [
      "[P] Building a App for Stable Diffusion: Text to Image generation in Python\n",
      "[R] Sketch2Pose — estimating a 3D character pose from a bitmap sketch\n",
      "[D] StableDiffusion v1.4 is entirely public. What do you think about Stability.ai ?\n",
      "[D] How to Run Stable Diffusion (Locally and in Colab)\n",
      "[D] In 2010, did people expect things like DALLE and AlphaFold to be only 10/13 years away?\n",
      "[D] ML for Good\n",
      "[N] John Carmack raises $20M from various investors to start Keen Technologies, an AGI Company.\n",
      "[D][N]\"Mudge learned that Twitter had never acquired proper legal rights to training material used to build Twitter's key Machine Learning models. The Machine Learning models at issue were some of the core models running the company's most basic products, like which Tweets to show each user.\"\n",
      "[R] Musika! Fast Infinite Waveform Music Generation + Gradio Web Demo\n",
      "[D] Has any non-PhD here published an ML paper?\n"
     ]
    }
   ],
   "source": [
    "for i in subreddit.top(limit=10, time_filter=\"week\"):\n",
    "    print(i.title)"
   ]
  },
  {
   "cell_type": "markdown",
   "metadata": {
    "hidden": true
   },
   "source": [
    "<details><summary>Expected output:</summary>\n",
    "\n",
    "    [N] Ian Goodfellow, Apple’s director of machine learning, is leaving the company due to its return to work policy. In a note to staff, he said “I believe strongly that more flexibility would have been the best policy for my team.” He was likely the company’s most cited ML expert.\n",
    "    [R][P] Thin-Plate Spline Motion Model for Image Animation + Gradio Web Demo\n",
    "    [P] I’ve been trying to understand the limits of some of the available machine learning models out there. Built an app that lets you try a mix of CLIP from Open AI + Apple’s version of MobileNet, and more directly on your phone's camera roll.\n",
    "    [R] Meta is releasing a 175B parameter language model\n",
    "    [N] Hugging Face raised $100M at $2B to double down on community, open-source & ethics\n",
    "    [P] T-SNE to view and order your Spotify tracks\n",
    "    [D] : HELP Finding a Book - A book written for Google Engineers about foundational Math to support ML\n",
    "    [R] Scaled up CLIP-like model (~2B) shows 86% Zero-shot on Imagenet\n",
    "    [D] Do you use NLTK or Spacy for text preprocessing?\n",
    "    [D] Democratizing Diffusion Models - LDMs: High-Resolution Image Synthesis with Latent Diffusion Models, a 5-minute paper summary by Casual GAN Papers\n",
    "</details>"
   ]
  },
  {
   "cell_type": "markdown",
   "metadata": {},
   "source": [
    "💽❓ Data Question:\n",
    "\n",
    "Check out what other attributes the `praw.models.Submission` class has in the [docs](https://praw.readthedocs.io/en/stable/code_overview/models/submission.html). \n",
    "\n",
    "1. After having a chance to look through the docs, is there any other information that you might want to extract? How might this additional data help you?\n",
    "\n",
    "Write a sample piece of code below extracting three additional pieces of information from the submission below."
   ]
  },
  {
   "cell_type": "code",
   "execution_count": 46,
   "metadata": {},
   "outputs": [
    {
     "name": "stdout",
     "output_type": "stream",
     "text": [
      "Created_Utc: 2020-05-10 13:19:54, Number of comments: 183, Author: cyrildiagne, Score: 7392\n",
      "Created_Utc: 2021-01-10 10:30:36, Number of comments: 128, Author: TheInsaneApp, Score: 5637\n",
      "Created_Utc: 2020-04-25 04:27:23, Number of comments: 110, Author: programmerChilli, Score: 4657\n",
      "Created_Utc: 2021-02-28 15:12:28, Number of comments: 230, Author: TheInsaneApp, Score: 4576\n",
      "Created_Utc: 2021-07-11 04:18:59, Number of comments: 228, Author: TheInsaneApp, Score: 4322\n",
      "Created_Utc: 2021-05-01 09:32:20, Number of comments: 218, Author: TheInsaneApp, Score: 4201\n",
      "Created_Utc: 2020-06-30 20:06:19, Number of comments: 569, Author: yusuf-bengio, Score: 3696\n",
      "Created_Utc: 2022-06-26 05:52:23, Number of comments: 158, Author: _ayushp_, Score: 3551\n",
      "Created_Utc: 2021-03-14 21:46:35, Number of comments: 172, Author: mencil47, Score: 3491\n",
      "Created_Utc: 2020-09-27 10:31:57, Number of comments: 114, Author: Enguzelharf, Score: 3392\n"
     ]
    }
   ],
   "source": [
    "import datetime\n",
    "\n",
    "for i in subreddit.top(time_filter=\"all\", limit=10):\n",
    "    print(\"Created_Utc: {}, Number of comments: {}, Author: {}, Score: {}\".format(datetime.datetime.utcfromtimestamp(i.created_utc)\n",
    ", i.num_comments, i.author, i.score))"
   ]
  },
  {
   "cell_type": "markdown",
   "metadata": {},
   "source": [
    "💽❓ Data Question:\n",
    "\n",
    "2. Is there any information available that might be a concern when it comes to Ethical Data?"
   ]
  },
  {
   "cell_type": "code",
   "execution_count": 23,
   "metadata": {},
   "outputs": [],
   "source": [
    "# [D][N]\"Mudge learned that Twitter had never acquired proper legal rights to training\n",
    "# material used to build Twitter's key Machine Learning models. The Machine Learning models at\n",
    "# issue were some of the core models running the company's most basic products, like which Tweets to\n",
    "# show each user.\""
   ]
  },
  {
   "cell_type": "markdown",
   "metadata": {
    "heading_collapsed": true,
    "hidden": true
   },
   "source": [
    "#### 3. Comment Code"
   ]
  },
  {
   "cell_type": "markdown",
   "metadata": {
    "hidden": true
   },
   "source": [
    "Add comments to the code block below to describe what each line of the code does (Refer to [Obtain Comment Instances Section](https://praw.readthedocs.io/en/stable/getting_started/quick_start.html) when necessary). The code is adapted from [this tutorial](https://praw.readthedocs.io/en/stable/tutorials/comments.html)\n",
    "\n",
    "The purpose is \n",
    "1. to understand what the code is doing \n",
    "2. start to comment your code whenever it is not self-explantory if you have not (others will thank you, YOU will thank you later 😊) "
   ]
  },
  {
   "cell_type": "code",
   "execution_count": 47,
   "metadata": {
    "hidden": true,
    "scrolled": true
   },
   "outputs": [
    {
     "name": "stdout",
     "output_type": "stream",
     "text": [
      "CPU times: user 372 ms, sys: 16.6 ms, total: 389 ms\n",
      "Wall time: 13.3 s\n"
     ]
    }
   ],
   "source": [
    "%%time\n",
    "from praw.models import MoreComments\n",
    "\n",
    "# Instantiating an empty list;\n",
    "top_comments = []\n",
    "\n",
    "# Looping through the subreddit.top 10 elements;\n",
    "for submission in subreddit.top(limit=10):\n",
    "    # top_level_comment in each submission element above\n",
    "    for top_level_comment in submission.comments:\n",
    "        # Checking if top_level_comment is part of the MoreComments class; if it is true continue,\n",
    "        # else breaks\n",
    "        if isinstance(top_level_comment, MoreComments):\n",
    "            continue\n",
    "        # On the top_comments list append the top_level_comment.body\n",
    "        top_comments.append(top_level_comment.body)"
   ]
  },
  {
   "cell_type": "markdown",
   "metadata": {
    "heading_collapsed": true,
    "hidden": true
   },
   "source": [
    "#### 4. Inspect Comments"
   ]
  },
  {
   "cell_type": "markdown",
   "metadata": {
    "hidden": true
   },
   "source": [
    "How many comments did you extract from the last step? Examine a few comments. "
   ]
  },
  {
   "cell_type": "code",
   "execution_count": 48,
   "metadata": {
    "hidden": true
   },
   "outputs": [
    {
     "data": {
      "text/plain": [
       "741"
      ]
     },
     "execution_count": 48,
     "metadata": {},
     "output_type": "execute_result"
    }
   ],
   "source": [
    "# YOUR CODE HERE\n",
    "# the answer may vary 693 for r/machinelearning\n",
    "len(top_comments)"
   ]
  },
  {
   "cell_type": "code",
   "execution_count": 50,
   "metadata": {
    "hidden": true
   },
   "outputs": [
    {
     "data": {
      "text/plain": [
       "['Potter Tech',\n",
       " 'This is probably the coolest thing I have seen in a long while.  Great fucking work!',\n",
       " 'does it pass the Turing test tho lol',\n",
       " 'Does that mean they are on Reddit ?',\n",
       " 'Source: https://driesdepoorter.be/theflemishscrollers/']"
      ]
     },
     "execution_count": 50,
     "metadata": {},
     "output_type": "execute_result"
    }
   ],
   "source": [
    "import random\n",
    "\n",
    "[random.choice(top_comments) for i in range(5)]"
   ]
  },
  {
   "cell_type": "markdown",
   "metadata": {},
   "source": [
    "<details> <summary>Some of the comments from `r/machinelearning` subreddit are:</summary>\n",
    "\n",
    "    ['Awesome visualisation',\n",
    "    'Similar to a stack or connected neurons.',\n",
    "    'Will this Turing pass the Turing Test?']\n",
    "</details>"
   ]
  },
  {
   "cell_type": "code",
   "execution_count": 51,
   "metadata": {},
   "outputs": [
    {
     "data": {
      "text/plain": [
       "['Potter Tech',\n",
       " 'This is probably the coolest thing I have seen in a long while.  Great fucking work!',\n",
       " 'does it pass the Turing test tho lol',\n",
       " 'Does that mean they are on Reddit ?',\n",
       " 'Source: https://driesdepoorter.be/theflemishscrollers/']"
      ]
     },
     "execution_count": 51,
     "metadata": {},
     "output_type": "execute_result"
    }
   ],
   "source": [
    "['Potter Tech',\n",
    " 'This is probably the coolest thing I have seen in a long while.  Great fucking work!',\n",
    " 'does it pass the Turing test tho lol',\n",
    " 'Does that mean they are on Reddit ?',\n",
    " 'Source: https://driesdepoorter.be/theflemishscrollers/']"
   ]
  },
  {
   "cell_type": "markdown",
   "metadata": {},
   "source": [
    "💽❓ Data Question:\n",
    "\n",
    "3. After having a chance to review a few samples of 5 comments from the subreddit, what can you say about the data? \n",
    "\n",
    "HINT: Think about the \"cleanliness\" of the data, the content of the data, think about what you're trying to do - how does this data line up with your goal?"
   ]
  },
  {
   "cell_type": "code",
   "execution_count": 52,
   "metadata": {},
   "outputs": [],
   "source": [
    "# Data is really dirty, lot's of big strings hard to get the information out of it..."
   ]
  },
  {
   "cell_type": "markdown",
   "metadata": {
    "hidden": true
   },
   "source": [
    "#### 5. Extract Top Level Comment from Subreddit `TSLA`."
   ]
  },
  {
   "cell_type": "markdown",
   "metadata": {
    "hidden": true
   },
   "source": [
    "Write your code to extract top level comments from the top 10 topics of a time period, e.g., year, from subreddit `TSLA` and store them in a list `top_comments_tsla`.  "
   ]
  },
  {
   "cell_type": "code",
   "execution_count": 54,
   "metadata": {
    "hidden": true
   },
   "outputs": [
    {
     "name": "stdout",
     "output_type": "stream",
     "text": [
      "I TOLD YOU SO\n",
      "Up Vote if you would like to see a 1for 5 stock split?\n",
      "I cry every time 😢\n",
      "Raise your hands if you stayed long and didn’t de-risk on Tesla because of your research and faith in the actual company.\n",
      "LOL?\n",
      "Veteran TSLA hodler. Don't fall for all the bad news. Been hodling since 2015 and I am still proud of my 10k turned 200k and now 120k. F#$* you shorts. Don't forget the last couple years!!! In the end I win again, again, and again. Have fun today. My plan will beat yours!!! Paper hands!\n",
      "Vote up for a 10 for 1 stock split (at 1500/share before split)!\n",
      "Genesis 7:1 💎🤲\n",
      "$TSLA will bounce back like we’ve never been before. Not selling a single share. I just wish I could buy more at these discounted prices. 💎🙌🏻🚀\n",
      "HODLING 243 shrs of TSLA and have $0 buying power\n"
     ]
    }
   ],
   "source": [
    "# YOUR CODE HERE\n",
    "subreddit2 = reddit.subreddit(\"TSLA\")\n",
    "\n",
    "for i in subreddit2.top(limit=10):\n",
    "    print(i.title)"
   ]
  },
  {
   "cell_type": "code",
   "execution_count": 55,
   "metadata": {},
   "outputs": [
    {
     "name": "stdout",
     "output_type": "stream",
     "text": [
      "CPU times: user 94.4 ms, sys: 0 ns, total: 94.4 ms\n",
      "Wall time: 4.09 s\n"
     ]
    }
   ],
   "source": [
    "%%time\n",
    "from praw.models import MoreComments\n",
    "\n",
    "# Instantiating an empty list;\n",
    "top_comments_tsla = []\n",
    "\n",
    "# Looping through the subreddit.top 10 elements;\n",
    "for submission in subreddit2.top(limit=10):\n",
    "    # top_level_comment in each submission element above\n",
    "    for top_level_comment in submission.comments:\n",
    "        # Checking if top_level_comment is part of the MoreComments class; if it is true continue,\n",
    "        # else breaks\n",
    "        if isinstance(top_level_comment, MoreComments):\n",
    "            continue\n",
    "        # On the top_comments list append the top_level_comment.body\n",
    "        top_comments_tsla.append(top_level_comment.body)"
   ]
  },
  {
   "cell_type": "code",
   "execution_count": 56,
   "metadata": {
    "hidden": true
   },
   "outputs": [
    {
     "data": {
      "text/plain": [
       "170"
      ]
     },
     "execution_count": 56,
     "metadata": {},
     "output_type": "execute_result"
    }
   ],
   "source": [
    "len(top_comments_tsla) # Expected: 174 for r/machinelearning"
   ]
  },
  {
   "cell_type": "code",
   "execution_count": 57,
   "metadata": {
    "hidden": true,
    "scrolled": true
   },
   "outputs": [
    {
     "data": {
      "text/plain": [
       "[\"Isn't it solely up to Elon?\",\n",
       " 'I laughed heartily :)\\n\\nI sold some of my shares at loss and bought $590 call options. I hope it is near the bottom. Otherwise, I am screwed too.',\n",
       " 'Nope I wussed out with the economy and Russia. And to top it off I bought a lot near the peak- $1052 and sold it off well under that. \\n\\nFortunately I lost $50 only. I bought/sold more as it made its descent into hell and back. \\n\\nUnfortunately I should have held when it was at below $800. \\n\\nI’ll buy it. But not at $1000.  I simply cannot imagine this going to $2000 with all that’s going outside of Tesla’s control. \\n\\nI’ll look at $900, maybe dip in at $800 and love it at $700.',\n",
       " '😂😂😂 hold it! Be a macho and hold till the end 😂😂😂',\n",
       " 'How high is it projected to go? Just found out I have quite a few shares still from when I bought years ago. Sold a few of them back then and somehow forgot I had others!']"
      ]
     },
     "execution_count": 57,
     "metadata": {},
     "output_type": "execute_result"
    }
   ],
   "source": [
    "[random.choice(top_comments_tsla) for i in range(5)]"
   ]
  },
  {
   "cell_type": "markdown",
   "metadata": {},
   "source": [
    "<details>\n",
    "<summary>Some of the comments from `r/TSLA` subreddit:</summary>\n",
    "\n",
    "    ['I bought puts',\n",
    "    '100%',\n",
    "    'Yes. And I’m bag holding 1200 calls for Friday and am close to throwing myself out the window']\n",
    "</details>"
   ]
  },
  {
   "cell_type": "markdown",
   "metadata": {},
   "source": [
    "💽❓ Data Question:\n",
    "\n",
    "4. Now that you've had a chance to review another subreddits comments, do you see any differences in the kinds of comments either subreddit has - and how might this relate to bias?"
   ]
  },
  {
   "cell_type": "code",
   "execution_count": 58,
   "metadata": {},
   "outputs": [],
   "source": [
    "# I think the data is still messy and but definitely creating bias in the community"
   ]
  },
  {
   "cell_type": "markdown",
   "metadata": {
    "heading_collapsed": true
   },
   "source": [
    "### Task III: Sentiment Analysis"
   ]
  },
  {
   "cell_type": "markdown",
   "metadata": {
    "hidden": true
   },
   "source": [
    "Let us analyze the sentiment of comments scraped from `r/TSLA` using a pre-trained HuggingFace model to make the inference. Take a [Quick tour](https://huggingface.co/docs/transformers/quicktour). "
   ]
  },
  {
   "cell_type": "markdown",
   "metadata": {
    "hidden": true
   },
   "source": [
    "#### 1. Import `pipeline`"
   ]
  },
  {
   "cell_type": "code",
   "execution_count": 59,
   "metadata": {
    "hidden": true
   },
   "outputs": [],
   "source": [
    "from transformers import pipeline"
   ]
  },
  {
   "cell_type": "markdown",
   "metadata": {
    "hidden": true
   },
   "source": [
    "#### 2. Create a Pipeline to Perform Task \"sentiment-analysis\""
   ]
  },
  {
   "cell_type": "code",
   "execution_count": 72,
   "metadata": {
    "hidden": true
   },
   "outputs": [
    {
     "name": "stderr",
     "output_type": "stream",
     "text": [
      "No model was supplied, defaulted to distilbert-base-uncased-finetuned-sst-2-english and revision af0f99b (https://huggingface.co/distilbert-base-uncased-finetuned-sst-2-english).\n",
      "Using a pipeline without specifying a model name and revision in production is not recommended.\n"
     ]
    }
   ],
   "source": [
    "sentiment_model = pipeline(\"sentiment-analysis\")"
   ]
  },
  {
   "cell_type": "markdown",
   "metadata": {
    "hidden": true
   },
   "source": [
    "#### 3. Get one comment from list `top_comments_tsla` from Task II - 5."
   ]
  },
  {
   "cell_type": "code",
   "execution_count": 73,
   "metadata": {
    "hidden": true
   },
   "outputs": [],
   "source": [
    "comment = random.choice(top_comments_tsla)"
   ]
  },
  {
   "cell_type": "code",
   "execution_count": 74,
   "metadata": {
    "hidden": true
   },
   "outputs": [
    {
     "data": {
      "text/plain": [
       "\"\\nRight now, it's actually a great opportunity to buy TSLA at such a huge discount. When it's back over 800, we'll already have locked in a 35% gain! 😎👍\""
      ]
     },
     "execution_count": 74,
     "metadata": {},
     "output_type": "execute_result"
    }
   ],
   "source": [
    "comment"
   ]
  },
  {
   "cell_type": "markdown",
   "metadata": {},
   "source": [
    "The example comment is: `'Bury Burry!!!!!'`. Print out what you get. For reproducibility, use the same comment in the next step; consider setting a seed."
   ]
  },
  {
   "cell_type": "markdown",
   "metadata": {
    "hidden": true
   },
   "source": [
    "#### 4. Make Inference!"
   ]
  },
  {
   "cell_type": "code",
   "execution_count": 79,
   "metadata": {
    "hidden": true
   },
   "outputs": [],
   "source": [
    "sentiment = sentiment_model(top_comments_tsla)"
   ]
  },
  {
   "cell_type": "code",
   "execution_count": 80,
   "metadata": {},
   "outputs": [
    {
     "data": {
      "text/plain": [
       "[{'label': 'NEGATIVE', 'score': 0.9937398433685303},\n",
       " {'label': 'NEGATIVE', 'score': 0.9993293285369873},\n",
       " {'label': 'NEGATIVE', 'score': 0.9959704875946045},\n",
       " {'label': 'NEGATIVE', 'score': 0.9924914240837097},\n",
       " {'label': 'NEGATIVE', 'score': 0.9972865581512451},\n",
       " {'label': 'POSITIVE', 'score': 0.9799702167510986},\n",
       " {'label': 'NEGATIVE', 'score': 0.9992691874504089},\n",
       " {'label': 'POSITIVE', 'score': 0.6894425749778748},\n",
       " {'label': 'POSITIVE', 'score': 0.9486647844314575},\n",
       " {'label': 'POSITIVE', 'score': 0.9979830980300903},\n",
       " {'label': 'POSITIVE', 'score': 0.9963148236274719},\n",
       " {'label': 'NEGATIVE', 'score': 0.9895860552787781},\n",
       " {'label': 'POSITIVE', 'score': 0.5503337979316711},\n",
       " {'label': 'POSITIVE', 'score': 0.9739510416984558},\n",
       " {'label': 'NEGATIVE', 'score': 0.9952527284622192},\n",
       " {'label': 'NEGATIVE', 'score': 0.9689355492591858},\n",
       " {'label': 'POSITIVE', 'score': 0.9997166991233826},\n",
       " {'label': 'NEGATIVE', 'score': 0.9991776347160339},\n",
       " {'label': 'NEGATIVE', 'score': 0.9665992259979248},\n",
       " {'label': 'POSITIVE', 'score': 0.9990358352661133},\n",
       " {'label': 'POSITIVE', 'score': 0.9997873902320862},\n",
       " {'label': 'NEGATIVE', 'score': 0.999384880065918},\n",
       " {'label': 'POSITIVE', 'score': 0.9977002739906311},\n",
       " {'label': 'NEGATIVE', 'score': 0.9972686767578125},\n",
       " {'label': 'POSITIVE', 'score': 0.9960852861404419},\n",
       " {'label': 'POSITIVE', 'score': 0.9734266400337219},\n",
       " {'label': 'POSITIVE', 'score': 0.9987488985061646},\n",
       " {'label': 'NEGATIVE', 'score': 0.9955430626869202},\n",
       " {'label': 'NEGATIVE', 'score': 0.9968542456626892},\n",
       " {'label': 'POSITIVE', 'score': 0.9982612729072571},\n",
       " {'label': 'NEGATIVE', 'score': 0.9707735776901245},\n",
       " {'label': 'POSITIVE', 'score': 0.9792409539222717},\n",
       " {'label': 'POSITIVE', 'score': 0.9998674392700195},\n",
       " {'label': 'NEGATIVE', 'score': 0.9526825547218323},\n",
       " {'label': 'NEGATIVE', 'score': 0.9832794666290283},\n",
       " {'label': 'NEGATIVE', 'score': 0.9467527270317078},\n",
       " {'label': 'POSITIVE', 'score': 0.9915407299995422},\n",
       " {'label': 'NEGATIVE', 'score': 0.999642014503479},\n",
       " {'label': 'NEGATIVE', 'score': 0.9934806823730469},\n",
       " {'label': 'NEGATIVE', 'score': 0.9953721165657043},\n",
       " {'label': 'POSITIVE', 'score': 0.8251240253448486},\n",
       " {'label': 'POSITIVE', 'score': 0.9992665648460388},\n",
       " {'label': 'NEGATIVE', 'score': 0.9818630814552307},\n",
       " {'label': 'NEGATIVE', 'score': 0.9989867806434631},\n",
       " {'label': 'POSITIVE', 'score': 0.937175989151001},\n",
       " {'label': 'NEGATIVE', 'score': 0.9915509223937988},\n",
       " {'label': 'NEGATIVE', 'score': 0.997878909111023},\n",
       " {'label': 'NEGATIVE', 'score': 0.9981821775436401},\n",
       " {'label': 'POSITIVE', 'score': 0.9996260404586792},\n",
       " {'label': 'POSITIVE', 'score': 0.9996402263641357},\n",
       " {'label': 'NEGATIVE', 'score': 0.9938929080963135},\n",
       " {'label': 'NEGATIVE', 'score': 0.9976969361305237},\n",
       " {'label': 'NEGATIVE', 'score': 0.5208780765533447},\n",
       " {'label': 'NEGATIVE', 'score': 0.9814748764038086},\n",
       " {'label': 'POSITIVE', 'score': 0.895205557346344},\n",
       " {'label': 'NEGATIVE', 'score': 0.9934806823730469},\n",
       " {'label': 'NEGATIVE', 'score': 0.9996885061264038},\n",
       " {'label': 'POSITIVE', 'score': 0.5905218720436096},\n",
       " {'label': 'NEGATIVE', 'score': 0.9968408346176147},\n",
       " {'label': 'NEGATIVE', 'score': 0.9975888729095459},\n",
       " {'label': 'NEGATIVE', 'score': 0.9934806823730469},\n",
       " {'label': 'NEGATIVE', 'score': 0.9976882934570312},\n",
       " {'label': 'POSITIVE', 'score': 0.9884964227676392},\n",
       " {'label': 'POSITIVE', 'score': 0.983048677444458},\n",
       " {'label': 'NEGATIVE', 'score': 0.9971621632575989},\n",
       " {'label': 'NEGATIVE', 'score': 0.9924721717834473},\n",
       " {'label': 'POSITIVE', 'score': 0.9960386753082275},\n",
       " {'label': 'NEGATIVE', 'score': 0.9993557333946228},\n",
       " {'label': 'NEGATIVE', 'score': 0.9983053207397461},\n",
       " {'label': 'POSITIVE', 'score': 0.9991744160652161},\n",
       " {'label': 'NEGATIVE', 'score': 0.9979255199432373},\n",
       " {'label': 'POSITIVE', 'score': 0.9960920214653015},\n",
       " {'label': 'NEGATIVE', 'score': 0.9607716798782349},\n",
       " {'label': 'POSITIVE', 'score': 0.8103343844413757},\n",
       " {'label': 'POSITIVE', 'score': 0.9601868391036987},\n",
       " {'label': 'NEGATIVE', 'score': 0.9963538646697998},\n",
       " {'label': 'NEGATIVE', 'score': 0.9997742772102356},\n",
       " {'label': 'POSITIVE', 'score': 0.8190576434135437},\n",
       " {'label': 'NEGATIVE', 'score': 0.9991133809089661},\n",
       " {'label': 'POSITIVE', 'score': 0.9923726320266724},\n",
       " {'label': 'POSITIVE', 'score': 0.9992936849594116},\n",
       " {'label': 'NEGATIVE', 'score': 0.9774370193481445},\n",
       " {'label': 'NEGATIVE', 'score': 0.9996756315231323},\n",
       " {'label': 'NEGATIVE', 'score': 0.9995410442352295},\n",
       " {'label': 'NEGATIVE', 'score': 0.9984436631202698},\n",
       " {'label': 'NEGATIVE', 'score': 0.8333267569541931},\n",
       " {'label': 'NEGATIVE', 'score': 0.8111270070075989},\n",
       " {'label': 'NEGATIVE', 'score': 0.985287070274353},\n",
       " {'label': 'NEGATIVE', 'score': 0.999238133430481},\n",
       " {'label': 'POSITIVE', 'score': 0.9710161089897156},\n",
       " {'label': 'NEGATIVE', 'score': 0.8495966196060181},\n",
       " {'label': 'NEGATIVE', 'score': 0.9995469450950623},\n",
       " {'label': 'NEGATIVE', 'score': 0.9887545108795166},\n",
       " {'label': 'NEGATIVE', 'score': 0.9890369772911072},\n",
       " {'label': 'NEGATIVE', 'score': 0.9934098124504089},\n",
       " {'label': 'NEGATIVE', 'score': 0.8938626050949097},\n",
       " {'label': 'NEGATIVE', 'score': 0.9915048480033875},\n",
       " {'label': 'NEGATIVE', 'score': 0.964660108089447},\n",
       " {'label': 'POSITIVE', 'score': 0.9920274615287781},\n",
       " {'label': 'POSITIVE', 'score': 0.9140145778656006},\n",
       " {'label': 'NEGATIVE', 'score': 0.9987186193466187},\n",
       " {'label': 'NEGATIVE', 'score': 0.9594216346740723},\n",
       " {'label': 'NEGATIVE', 'score': 0.9987315535545349},\n",
       " {'label': 'NEGATIVE', 'score': 0.7845080494880676},\n",
       " {'label': 'NEGATIVE', 'score': 0.9890660047531128},\n",
       " {'label': 'NEGATIVE', 'score': 0.9983571171760559},\n",
       " {'label': 'POSITIVE', 'score': 0.9886464476585388},\n",
       " {'label': 'NEGATIVE', 'score': 0.9992691874504089},\n",
       " {'label': 'POSITIVE', 'score': 0.9590715765953064},\n",
       " {'label': 'NEGATIVE', 'score': 0.9989833235740662},\n",
       " {'label': 'NEGATIVE', 'score': 0.9996469020843506},\n",
       " {'label': 'POSITIVE', 'score': 0.9865148663520813},\n",
       " {'label': 'NEGATIVE', 'score': 0.9909082651138306},\n",
       " {'label': 'NEGATIVE', 'score': 0.9839507341384888},\n",
       " {'label': 'NEGATIVE', 'score': 0.9982249140739441},\n",
       " {'label': 'NEGATIVE', 'score': 0.9976972937583923},\n",
       " {'label': 'NEGATIVE', 'score': 0.9829100966453552},\n",
       " {'label': 'NEGATIVE', 'score': 0.9732576608657837},\n",
       " {'label': 'NEGATIVE', 'score': 0.9655489325523376},\n",
       " {'label': 'POSITIVE', 'score': 0.967166006565094},\n",
       " {'label': 'NEGATIVE', 'score': 0.9995706677436829},\n",
       " {'label': 'NEGATIVE', 'score': 0.9691010117530823},\n",
       " {'label': 'NEGATIVE', 'score': 0.9923229217529297},\n",
       " {'label': 'POSITIVE', 'score': 0.9278433918952942},\n",
       " {'label': 'POSITIVE', 'score': 0.9829424619674683},\n",
       " {'label': 'NEGATIVE', 'score': 0.9505861401557922},\n",
       " {'label': 'NEGATIVE', 'score': 0.9957142472267151},\n",
       " {'label': 'NEGATIVE', 'score': 0.9858171343803406},\n",
       " {'label': 'POSITIVE', 'score': 0.9907417297363281},\n",
       " {'label': 'NEGATIVE', 'score': 0.9989251494407654},\n",
       " {'label': 'POSITIVE', 'score': 0.9298888444900513},\n",
       " {'label': 'NEGATIVE', 'score': 0.9991023540496826},\n",
       " {'label': 'POSITIVE', 'score': 0.5893683433532715},\n",
       " {'label': 'NEGATIVE', 'score': 0.999584972858429},\n",
       " {'label': 'NEGATIVE', 'score': 0.9939708709716797},\n",
       " {'label': 'POSITIVE', 'score': 0.8816500902175903},\n",
       " {'label': 'NEGATIVE', 'score': 0.9979879856109619},\n",
       " {'label': 'NEGATIVE', 'score': 0.9988390803337097},\n",
       " {'label': 'POSITIVE', 'score': 0.9996720552444458},\n",
       " {'label': 'NEGATIVE', 'score': 0.9951477646827698},\n",
       " {'label': 'POSITIVE', 'score': 0.96513432264328},\n",
       " {'label': 'POSITIVE', 'score': 0.9997335076332092},\n",
       " {'label': 'NEGATIVE', 'score': 0.996698260307312},\n",
       " {'label': 'POSITIVE', 'score': 0.9991292357444763},\n",
       " {'label': 'NEGATIVE', 'score': 0.9973475933074951},\n",
       " {'label': 'NEGATIVE', 'score': 0.9915435314178467},\n",
       " {'label': 'POSITIVE', 'score': 0.979337215423584},\n",
       " {'label': 'POSITIVE', 'score': 0.9980130195617676},\n",
       " {'label': 'NEGATIVE', 'score': 0.9974296689033508},\n",
       " {'label': 'NEGATIVE', 'score': 0.5937851667404175},\n",
       " {'label': 'NEGATIVE', 'score': 0.9983880519866943},\n",
       " {'label': 'NEGATIVE', 'score': 0.9912292957305908},\n",
       " {'label': 'POSITIVE', 'score': 0.9997251629829407},\n",
       " {'label': 'POSITIVE', 'score': 0.9894692897796631},\n",
       " {'label': 'NEGATIVE', 'score': 0.6929768919944763},\n",
       " {'label': 'NEGATIVE', 'score': 0.9983528852462769},\n",
       " {'label': 'POSITIVE', 'score': 0.9617775082588196},\n",
       " {'label': 'NEGATIVE', 'score': 0.9992691874504089},\n",
       " {'label': 'NEGATIVE', 'score': 0.9717538952827454},\n",
       " {'label': 'POSITIVE', 'score': 0.9954257607460022},\n",
       " {'label': 'POSITIVE', 'score': 0.9880304932594299},\n",
       " {'label': 'POSITIVE', 'score': 0.9995372295379639},\n",
       " {'label': 'POSITIVE', 'score': 0.9864137172698975},\n",
       " {'label': 'NEGATIVE', 'score': 0.913335919380188},\n",
       " {'label': 'POSITIVE', 'score': 0.9967671632766724},\n",
       " {'label': 'NEGATIVE', 'score': 0.9997847676277161},\n",
       " {'label': 'NEGATIVE', 'score': 0.9971745014190674},\n",
       " {'label': 'NEGATIVE', 'score': 0.9994730353355408},\n",
       " {'label': 'NEGATIVE', 'score': 0.9926707744598389},\n",
       " {'label': 'NEGATIVE', 'score': 0.9976527094841003}]"
      ]
     },
     "execution_count": 80,
     "metadata": {},
     "output_type": "execute_result"
    }
   ],
   "source": [
    "sentiment"
   ]
  },
  {
   "cell_type": "markdown",
   "metadata": {
    "hidden": true
   },
   "source": [
    "What is the type of the output `sentiment`?"
   ]
  },
  {
   "cell_type": "markdown",
   "metadata": {
    "hidden": true
   },
   "source": [
    "```\n",
    "YOUR ANSWER HERE\n",
    "```"
   ]
  },
  {
   "cell_type": "code",
   "execution_count": 81,
   "metadata": {
    "hidden": true,
    "scrolled": true
   },
   "outputs": [
    {
     "name": "stdout",
     "output_type": "stream",
     "text": [
      "The comment: \n",
      "Right now, it's actually a great opportunity to buy TSLA at such a huge discount. When it's back over 800, we'll already have locked in a 35% gain! 😎👍\n",
      "Predicted Label is NEGATIVE and the score is 0.994\n"
     ]
    }
   ],
   "source": [
    "print(f'The comment: {comment}')\n",
    "print(f'Predicted Label is {sentiment[0][\"label\"]} and the score is {sentiment[0][\"score\"]:.3f}')"
   ]
  },
  {
   "cell_type": "markdown",
   "metadata": {},
   "source": [
    "For the example comment, the output is:\n",
    "\n",
    "    The comment: Bury Burry!!!!!\n",
    "    Predicted Label is NEGATIVE and the score is 0.989"
   ]
  },
  {
   "cell_type": "markdown",
   "metadata": {},
   "source": [
    "🖥️❓ Model Question:\n",
    "\n",
    "1. What does the score represent?"
   ]
  },
  {
   "cell_type": "code",
   "execution_count": 82,
   "metadata": {},
   "outputs": [],
   "source": [
    "# On this exercise this model was not as good; the classification came back wrong"
   ]
  },
  {
   "cell_type": "markdown",
   "metadata": {},
   "source": [
    "### Task IV: Put All Together"
   ]
  },
  {
   "cell_type": "markdown",
   "metadata": {},
   "source": [
    "Let's pull all the piece together, create a simple script that does \n",
    "\n",
    "- get the subreddit\n",
    "- get comments from the top posts for given subreddit\n",
    "- run sentiment analysis "
   ]
  },
  {
   "cell_type": "markdown",
   "metadata": {},
   "source": [
    "#### Complete the Script"
   ]
  },
  {
   "cell_type": "markdown",
   "metadata": {},
   "source": [
    "Once you complete the code, running the following block writes the code into a new Python script and saves it as `top_tlsa_comment_sentiment.py` under the same directory with the notebook. "
   ]
  },
  {
   "cell_type": "code",
   "execution_count": 87,
   "metadata": {
    "code_folding": []
   },
   "outputs": [
    {
     "name": "stdout",
     "output_type": "stream",
     "text": [
      "Overwriting top_tlsa_comment_sentiment.py\n"
     ]
    }
   ],
   "source": [
    "%%writefile top_tlsa_comment_sentiment.py\n",
    "\n",
    "import secrets_reddit\n",
    "import random\n",
    "\n",
    "from typing import Dict, List\n",
    "\n",
    "from praw import Reddit\n",
    "from praw.models.reddit.subreddit import Subreddit\n",
    "from praw.models import MoreComments\n",
    "\n",
    "from transformers import pipeline\n",
    "\n",
    "\n",
    "def get_subreddit(display_name:str) -> Subreddit:\n",
    "    \"\"\"Get subreddit object from display name\n",
    "\n",
    "    Args:\n",
    "        display_name (str): [description]\n",
    "\n",
    "    Returns:\n",
    "        Subreddit: [description]\n",
    "    \"\"\"\n",
    "    reddit = Reddit(\n",
    "        client_id=secrets_reddit.REDDIT_API_CLIENT_ID,        \n",
    "        client_secret=secrets_reddit.REDDIT_API_CLIENT_SECRET,\n",
    "        user_agent=secrets_reddit.REDDIT_API_USER_AGENT\n",
    "        )\n",
    "    \n",
    "    subreddit = reddit.subreddit(display_name)\n",
    "    return subreddit\n",
    "\n",
    "def get_comments(subreddit:Subreddit, limit:int=3) -> List[str]:\n",
    "    \"\"\" Get comments from subreddit\n",
    "\n",
    "    Args:\n",
    "        subreddit (Subreddit): [description]\n",
    "        limit (int, optional): [description]. Defaults to 3.\n",
    "\n",
    "    Returns:\n",
    "        List[str]: List of comments\n",
    "    \"\"\"\n",
    "    top_comments = []\n",
    "    for submission in subreddit.top(limit=limit):\n",
    "        for top_level_comment in submission.comments:\n",
    "            if isinstance(top_level_comment, MoreComments):\n",
    "                continue\n",
    "            top_comments.append(top_level_comment.body)\n",
    "    return top_comments\n",
    "\n",
    "def run_sentiment_analysis(comment:str) -> Dict:\n",
    "    \"\"\"Run sentiment analysis on comment using default distilbert model\n",
    "    \n",
    "    Args:\n",
    "        comment (str): [description]\n",
    "        \n",
    "    Returns:\n",
    "        str: Sentiment analysis result\n",
    "    \"\"\"\n",
    "    sentiment_model = pipeline(\"sentiment-analysis\")\n",
    "    sentiment = sentiment_model(comment)\n",
    "    return sentiment[0]\n",
    "\n",
    "\n",
    "if __name__ == '__main__':\n",
    "    subreddit = get_subreddit(\"TSLA\")\n",
    "    comments = get_comments(subreddit)\n",
    "    comment = random.choice(comments)\n",
    "    sentiment = run_sentiment_analysis(comment)\n",
    "    \n",
    "    print(f'The comment: {comment}')\n",
    "    print(f'Predicted Label is {sentiment[\"label\"]} and the score is {sentiment[\"score\"]:.3f}')"
   ]
  },
  {
   "cell_type": "markdown",
   "metadata": {},
   "source": [
    "Run the following block to see the output."
   ]
  },
  {
   "cell_type": "code",
   "execution_count": 88,
   "metadata": {},
   "outputs": [
    {
     "name": "stdout",
     "output_type": "stream",
     "text": [
      "No model was supplied, defaulted to distilbert-base-uncased-finetuned-sst-2-english and revision af0f99b (https://huggingface.co/distilbert-base-uncased-finetuned-sst-2-english).\n",
      "Using a pipeline without specifying a model name and revision in production is not recommended.\n",
      "The comment: Which other Crypto do Tesla plan to approve?\n",
      "Predicted Label is NEGATIVE and the score is 0.997\n"
     ]
    }
   ],
   "source": [
    "!python top_tlsa_comment_sentiment.py"
   ]
  },
  {
   "cell_type": "markdown",
   "metadata": {},
   "source": [
    "<details><summary> Expected output:</summary>\n",
    "\n",
    "    No model was supplied, defaulted to distilbert-base-uncased-finetuned-sst-2-english (https://huggingface.co/distilbert-base-uncased-finetuned-sst-2-english)\n",
    "    The comment: When is DOGE flying\n",
    "    Predicted Label is POSITIVE and the score is 0.689\n",
    "</details>"
   ]
  },
  {
   "cell_type": "markdown",
   "metadata": {},
   "source": [
    "💽❓ Data Question:\n",
    "\n",
    "5. Is the subreddit active? About how many posts or threads per day? How could you find this information?"
   ]
  },
  {
   "cell_type": "code",
   "execution_count": 89,
   "metadata": {},
   "outputs": [],
   "source": [
    "# Yes, it is; based on the counts of comments in the output comments."
   ]
  },
  {
   "cell_type": "markdown",
   "metadata": {},
   "source": []
  },
  {
   "cell_type": "markdown",
   "metadata": {},
   "source": [
    "💽❓ Data Question:\n",
    "\n",
    "6. Does there seem to be a large distribution of posters or a smaller concentration of posters who are very active? What kind of impact might this have on the data?"
   ]
  },
  {
   "cell_type": "code",
   "execution_count": null,
   "metadata": {},
   "outputs": [],
   "source": [
    "# Definitely some posters are more active than others; We can have bias in the data by definition."
   ]
  },
  {
   "cell_type": "markdown",
   "metadata": {},
   "source": []
  }
 ],
 "metadata": {
  "kernelspec": {
   "display_name": "Python 3 (ipykernel)",
   "language": "python",
   "name": "python3"
  },
  "language_info": {
   "codemirror_mode": {
    "name": "ipython",
    "version": 3
   },
   "file_extension": ".py",
   "mimetype": "text/x-python",
   "name": "python",
   "nbconvert_exporter": "python",
   "pygments_lexer": "ipython3",
   "version": "3.8.13"
  },
  "toc": {
   "base_numbering": 1,
   "nav_menu": {},
   "number_sections": true,
   "sideBar": true,
   "skip_h1_title": false,
   "title_cell": "Table of Contents",
   "title_sidebar": "Contents",
   "toc_cell": false,
   "toc_position": {},
   "toc_section_display": true,
   "toc_window_display": true
  },
  "vscode": {
   "interpreter": {
    "hash": "c57794392b841cffd8686d5c4548e4e2ec78521f49300d60954d1380f1b4bd1f"
   }
  }
 },
 "nbformat": 4,
 "nbformat_minor": 2
}
